{
  "cells": [
    {
      "cell_type": "markdown",
      "metadata": {
        "id": "havFsrqzlXPy"
      },
      "source": [
        "# Optimization Techniques on MNIST Dataset\n",
        "This notebook explores various optimization techniques for training neural networks on the MNIST dataset. The focus will be on different optimization strategies including Adaptive Learning Rates, SGD, Mini-Batch Gradient Descent, and Learning Rate Adjustments. Each section will provide a practical task related to these techniques."
      ]
    },
    {
      "cell_type": "code",
      "execution_count": null,
      "metadata": {
        "id": "ywjE9LpmlXP1"
      },
      "outputs": [],
      "source": [
        "import tensorflow as tf\n",
        "import numpy as np\n",
        "import matplotlib.pyplot as plt\n",
        "\n",
        "# Load Fashion MNIST dataset\n",
        "(x_train, y_train), (x_test, y_test) = tf.keras.datasets.fashion_mnist.load_data()\n",
        "\n",
        "# Normalize data\n",
        "x_train, x_test = x_train / 255.0, x_test / 255.0\n",
        "\n",
        "# One-hot encode labels\n",
        "y_train = tf.keras.utils.to_categorical(y_train, 10)\n",
        "y_test = tf.keras.utils.to_categorical(y_test, 10)\n",
        "\n",
        "x_train = x_train.reshape(x_train.shape[0],-1)\n",
        "x_test = x_test.reshape(x_test.shape[0],-1)"
      ]
    },
    {
      "cell_type": "markdown",
      "metadata": {
        "id": "wRAx8D1631mW"
      },
      "source": [
        "## Adaptive Learning Rates"
      ]
    },
    {
      "cell_type": "markdown",
      "metadata": {
        "id": "4rNvoHEDlXP2"
      },
      "source": [
        "## Implementing a Simple Neural Network from Scratch"
      ]
    },
    {
      "cell_type": "markdown",
      "metadata": {
        "id": "8IMMs-s6lXP2"
      },
      "source": [
        "### Building the Network\n",
        "Define the architecture of a simple feedforward neural network with one hidden layer. You will need to manually initialize the weights and biases.\n",
        "\n",
        "**TODO:** Initialize Parameters\n",
        "Objective: Create a function to initialize weights and biases for all layers of the network.\n",
        "Instructions:\n",
        "- Initialize weights with small random values and biases with zeros.\n",
        "- Use numpy for creating arrays and operations.\n",
        "\n",
        "Hint: Use np.random.randn for weights and np.zeros for biases. Scale weights by 0.1."
      ]
    },
    {
      "cell_type": "code",
      "execution_count": null,
      "metadata": {
        "id": "HEUr0figlXP3"
      },
      "outputs": [],
      "source": [
        "def initialize_parameters(input_size, hidden_size, output_size):\n",
        "    \"\"\"\n",
        "    Initialize weights and biases for a simple feedforward neural network.\n",
        "\n",
        "    Parameters:\n",
        "    - input_size: Number of input features.\n",
        "    - hidden_size: Number of neurons in the hidden layer.\n",
        "    - output_size: Number of output classes.\n",
        "\n",
        "    Returns:\n",
        "    - parameters: A dictionary containing weights and biases.\n",
        "    \"\"\"\n",
        "    parameters = {\n",
        "        'W1': np.random.randn(input_size, hidden_size) * 0.1,\n",
        "        'b1': np.zeros((1, hidden_size)),\n",
        "        'W2': np.random.randn(hidden_size, output_size) * 0.1,\n",
        "        'b2': np.zeros((1, output_size)),\n",
        "    }\n",
        "    return parameters"
      ]
    },
    {
      "cell_type": "markdown",
      "metadata": {
        "id": "bDvfRCVq-74-"
      },
      "source": [
        "\n",
        "TODO: Define Activation Functions\n",
        "Objective: Implement commonly used activation functions.\n",
        "Instructions:\n",
        " - Define the ReLU and Sigmoid activation functions.\n",
        " - Ensure each function works with numpy arrays and supports both forward and derivative (gradient) computations.\n"
      ]
    },
    {
      "cell_type": "code",
      "execution_count": null,
      "metadata": {
        "id": "qIBwOlH6_Jg4"
      },
      "outputs": [],
      "source": [
        "def relu(x):\n",
        "    \"\"\"\n",
        "    ReLU activation function.\n",
        "\n",
        "    Parameters:\n",
        "    - x: Input numpy array.\n",
        "\n",
        "    Returns:\n",
        "    - Output after applying ReLU.\n",
        "    \"\"\"\n",
        "    return np.maximum(0, x)\n",
        "\n",
        "def relu_derivative(x):\n",
        "    \"\"\"\n",
        "    Derivative of ReLU activation function.\n",
        "\n",
        "    Parameters:\n",
        "    - x: Input numpy array.\n",
        "\n",
        "    Returns:\n",
        "    - Derivative of ReLU.\n",
        "    \"\"\"\n",
        "    return (x > 0).astype(float)\n",
        "\n",
        "def sigmoid(x):\n",
        "    \"\"\"\n",
        "    Sigmoid activation function.\n",
        "\n",
        "    Parameters:\n",
        "    - x: Input numpy array.\n",
        "\n",
        "    Returns:\n",
        "    - Output after applying sigmoid.\n",
        "    \"\"\"\n",
        "    return 1 / (1 + np.exp(-x))\n",
        "\n",
        "def sigmoid_derivative(x):\n",
        "    \"\"\"\n",
        "    Derivative of sigmoid activation function.\n",
        "\n",
        "    Parameters:\n",
        "    - x: Input numpy array.\n",
        "\n",
        "    Returns:\n",
        "    - Derivative of sigmoid.\n",
        "    \"\"\"\n",
        "    sig = sigmoid(x)\n",
        "    return sig * (1 - sig)\n"
      ]
    },
    {
      "cell_type": "markdown",
      "metadata": {
        "id": "h6HxkvToEDjr"
      },
      "source": [
        "TODO: Perform forward propagation through the network.\n",
        "\n",
        "    Parameters:\n",
        "    - X: Input data (shape: number of examples x input size).\n",
        "    - parameters: Dictionary containing weights and biases.\n",
        "\n",
        "    Returns:\n",
        "    - A2: Output of the network (after activation).\n",
        "    - cache: Dictionary containing intermediate values for backpropagation."
      ]
    },
    {
      "cell_type": "code",
      "execution_count": null,
      "metadata": {
        "id": "4ylVbZoXECpn"
      },
      "outputs": [],
      "source": [
        "def forward_propagation(X, parameters, activation_hidden=relu, activation_output=sigmoid):\n",
        "    \"\"\"\n",
        "    Perform forward propagation through a two-layer network.\n",
        "\n",
        "    Parameters:\n",
        "    - X (ndarray): Input data of shape (number of examples, input size).\n",
        "    - parameters (dict): Dictionary containing:\n",
        "        - W1, b1: Weights and biases for the first layer.\n",
        "        - W2, b2: Weights and biases for the second layer.\n",
        "    - activation_hidden (function): Activation function for the hidden layer (default: relu).\n",
        "    - activation_output (function): Activation function for the output layer (default: sigmoid).\n",
        "\n",
        "    Returns:\n",
        "    - A2 (ndarray): Output of the network (after activation).\n",
        "    - cache (dict): Dictionary containing intermediate values (Z1, A1, Z2, A2) for backpropagation.\n",
        "    \"\"\"\n",
        "\n",
        "    required_keys = ['W1', 'b1', 'W2', 'b2']\n",
        "    for key in required_keys:\n",
        "        if key not in parameters:\n",
        "            raise ValueError(f\"Missing key '{key}' in parameters.\")\n",
        "\n",
        "    Z1 = np.dot(X, parameters['W1']) + parameters['b1']\n",
        "    A1 = activation_hidden(Z1)\n",
        "\n",
        "    Z2 = np.dot(A1, parameters['W2']) + parameters['b2']\n",
        "    A2 = activation_output(Z2)\n",
        "\n",
        "    cache = {'Z1': Z1, 'A1': A1, 'Z2': Z2, 'A2': A2}\n",
        "\n",
        "    return A2, cache"
      ]
    },
    {
      "cell_type": "markdown",
      "metadata": {
        "id": "-KtURRNUC_NP"
      },
      "source": [
        "TODO: Implement the loss function. Compute the categorical cross-entropy loss.\n",
        "\n",
        "    Parameters:\n",
        "    - y_true: True labels (one-hot encoded).\n",
        "    - y_pred: Predicted probabilities (output of the network).\n",
        "\n",
        "    Returns:\n",
        "    - loss: Computed loss."
      ]
    },
    {
      "cell_type": "code",
      "execution_count": null,
      "metadata": {
        "id": "advoE8kEC-vk"
      },
      "outputs": [],
      "source": [
        "def compute_loss(y_true, y_pred):\n",
        "    \"\"\"\n",
        "    Compute the categorical cross-entropy loss.\n",
        "\n",
        "    Parameters:\n",
        "    - y_true: True labels (one-hot encoded).\n",
        "    - y_pred: Predicted probabilities (output of the network).\n",
        "\n",
        "    Returns:\n",
        "    - loss: Computed loss.\n",
        "    \"\"\"\n",
        "    m = y_true.shape[0]\n",
        "    loss = -np.sum(y_true * np.log(y_pred + 1e-8)) / m\n",
        "    return loss"
      ]
    },
    {
      "cell_type": "markdown",
      "metadata": {
        "id": "s5V1D0jUDK3B"
      },
      "source": [
        "TODO: Implement backpropagation for the network and Perform backward propagation through the network.\n",
        "\n",
        "    Parameters:\n",
        "    - X: Input data.\n",
        "    - y_true: True labels.\n",
        "    - parameters: Dictionary containing weights and biases.\n",
        "    - cache: Intermediate values from forward propagation.\n",
        "\n",
        "    Returns:\n",
        "    - gradients: Dictionary containing gradients for weights and biases."
      ]
    },
    {
      "cell_type": "code",
      "execution_count": null,
      "metadata": {
        "id": "4CxAo9FlBG18"
      },
      "outputs": [],
      "source": [
        "def backward_propagation(X, y_true, parameters, cache, activation_hidden_derivative=relu_derivative):\n",
        "    \"\"\"\n",
        "    Perform backward propagation through a two-layer neural network.\n",
        "\n",
        "    Parameters:\n",
        "    - X (ndarray): Input data, shape (number of examples, input size).\n",
        "    - y_true (ndarray): True labels, shape (number of examples, output size).\n",
        "    - parameters (dict): Dictionary containing:\n",
        "        - W1, b1: Weights and biases for the first layer.\n",
        "        - W2, b2: Weights and biases for the second layer.\n",
        "    - cache (dict): Dictionary containing intermediate forward pass values:\n",
        "        - Z1, A1: Pre-activation and activation values for the hidden layer.\n",
        "        - Z2, A2: Pre-activation and activation values for the output layer.\n",
        "    - activation_hidden_derivative (function): Derivative of the activation function for the hidden layer.\n",
        "\n",
        "    Returns:\n",
        "    - gradients (dict): Dictionary containing gradients:\n",
        "        - dW1, db1: Gradients for weights and biases in the first layer.\n",
        "        - dW2, db2: Gradients for weights and biases in the second layer.\n",
        "    \"\"\"\n",
        "    m = X.shape[0]\n",
        "\n",
        "    A1, A2 = cache['A1'], cache['A2']\n",
        "    Z1 = cache['Z1']\n",
        "\n",
        "    dZ2 = A2 - y_true\n",
        "    dW2 = np.dot(A1.T, dZ2) / m\n",
        "    db2 = np.sum(dZ2, axis=0, keepdims=True) / m\n",
        "\n",
        "    dA1 = np.dot(dZ2, parameters['W2'].T)\n",
        "    dZ1 = dA1 * activation_hidden_derivative(Z1)\n",
        "    dW1 = np.dot(X.T, dZ1) / m\n",
        "    db1 = np.sum(dZ1, axis=0, keepdims=True) / m\n",
        "\n",
        "    gradients = {\n",
        "        'W1': dW1,\n",
        "        'b1': db1,\n",
        "        'W2': dW2,\n",
        "        'b2': db2\n",
        "    }\n",
        "    return gradients"
      ]
    },
    {
      "cell_type": "markdown",
      "metadata": {
        "id": "LG2cvi3DDe4Q"
      },
      "source": [
        "TODO: Update the parameters using gradient descent.\n",
        "\n",
        "    Parameters:\n",
        "    - parameters: Current weights and biases.\n",
        "    - gradients: Calculated gradients.\n",
        "    - learning_rate: Learning rate for updates.\n",
        "\n",
        "    Returns:\n",
        "    - parameters: Updated weights and biases."
      ]
    },
    {
      "cell_type": "code",
      "execution_count": null,
      "metadata": {
        "id": "9uMGXPGqDdk4"
      },
      "outputs": [],
      "source": [
        "def update_parameters(parameters, gradients, learning_rate=0.01):\n",
        "    \"\"\"\n",
        "    Update parameters using gradient descent.\n",
        "\n",
        "    Parameters:\n",
        "    - parameters: Current weights and biases.\n",
        "    - gradients: Calculated gradients.\n",
        "    - learning_rate: Learning rate for updates.\n",
        "\n",
        "    Returns:\n",
        "    - parameters: Updated weights and biases.\n",
        "    \"\"\"\n",
        "\n",
        "    W1 = parameters['W1']\n",
        "    b1 = parameters['b1']\n",
        "    W2 = parameters['W2']\n",
        "    b2 = parameters['b2']\n",
        "\n",
        "    dW1 = gradients['W1']\n",
        "    db1 = gradients['b1']\n",
        "    dW2 = gradients['W2']\n",
        "    db2 = gradients['b2']\n",
        "\n",
        "    W1 -= learning_rate * dW1\n",
        "    b1 -= learning_rate * db1\n",
        "    W2 -= learning_rate * dW2\n",
        "    b2 -= learning_rate * db2\n",
        "\n",
        "    parameters = {\n",
        "        'W1': W1,\n",
        "        'b1': b1,\n",
        "        'W2': W2,\n",
        "        'b2': b2\n",
        "    }\n",
        "\n",
        "    return parameters"
      ]
    },
    {
      "cell_type": "markdown",
      "metadata": {
        "id": "5E4UZg1SD2bM"
      },
      "source": [
        "TODO: Train the model by changing the hidden layer size (such as [32, 64, 128]) and observe the impact on network performance during training.\n",
        "\n",
        "    Train the neural network model.\n",
        "\n",
        "    Parameters:\n",
        "    - X_train: Training data.\n",
        "    - y_train: One-hot encoded labels.\n",
        "    - hidden_size: Number of neurons in the hidden layer.\n",
        "    - epochs: Number of training epochs.\n",
        "    - learning_rate: Learning rate for optimization."
      ]
    },
    {
      "cell_type": "code",
      "source": [
        "def train_model(X_train, y_train, hidden_size, epochs=50, learning_rate=0.01):\n",
        "    \"\"\"\n",
        "    Train the neural network model.\n",
        "\n",
        "    Parameters:\n",
        "    - X_train: Training data (shape: number of examples x input size).\n",
        "    - y_train: One-hot encoded labels (shape: number of examples x output size).\n",
        "    - hidden_size: Number of neurons in the hidden layer.\n",
        "    - epochs: Number of training epochs.\n",
        "    - learning_rate: Learning rate for optimization.\n",
        "\n",
        "    Returns:\n",
        "    - parameters: Final trained weights and biases.\n",
        "    - loss_history: A list containing the loss at each epoch.\n",
        "    \"\"\"\n",
        "\n",
        "    input_size = X_train.shape[1]\n",
        "    output_size = y_train.shape[1]\n",
        "    parameters = initialize_parameters(input_size, hidden_size, output_size)\n",
        "\n",
        "    loss_history = []\n",
        "\n",
        "    print(f\"\\nTraining with hidden layer size: {hidden_size}\")\n",
        "\n",
        "    for epoch in range(epochs):\n",
        "        A2, cache = forward_propagation(X_train, parameters)\n",
        "\n",
        "        loss = compute_loss(y_train, A2)\n",
        "\n",
        "        gradients = backward_propagation(X_train, y_train, parameters, cache)\n",
        "\n",
        "        parameters = update_parameters(parameters, gradients, learning_rate)\n",
        "\n",
        "        loss_history.append(loss)\n",
        "\n",
        "        if epoch % 10 == 0:\n",
        "            print(f\"Epoch {epoch}, Loss: {loss:.4f}\")\n",
        "\n",
        "    return parameters, loss_history\n",
        "\n",
        "a,b=train_model(X_train=x_train, y_train=y_train, hidden_size=32)\n",
        "a,b=train_model(X_train=x_train, y_train=y_train, hidden_size=64)\n",
        "a,b=train_model(X_train=x_train, y_train=y_train, hidden_size=128)"
      ],
      "metadata": {
        "colab": {
          "base_uri": "https://localhost:8080/"
        },
        "id": "laRVgDe_5i2K",
        "outputId": "d7efb9cd-1ca4-4c58-f603-1e08c1d84099"
      },
      "execution_count": null,
      "outputs": [
        {
          "output_type": "stream",
          "name": "stdout",
          "text": [
            "\n",
            "Training with hidden layer size: 32\n",
            "Epoch 0, Loss: 0.8323\n",
            "Epoch 10, Loss: 1.4665\n",
            "Epoch 20, Loss: 1.8397\n",
            "Epoch 30, Loss: 1.9449\n",
            "Epoch 40, Loss: 1.9475\n",
            "\n",
            "Training with hidden layer size: 64\n",
            "Epoch 0, Loss: 0.8146\n",
            "Epoch 10, Loss: 1.7273\n",
            "Epoch 20, Loss: 1.9337\n",
            "Epoch 30, Loss: 1.9252\n",
            "Epoch 40, Loss: 1.8632\n",
            "\n",
            "Training with hidden layer size: 128\n",
            "Epoch 0, Loss: 0.9475\n",
            "Epoch 10, Loss: 1.8305\n",
            "Epoch 20, Loss: 1.8593\n",
            "Epoch 30, Loss: 1.7612\n",
            "Epoch 40, Loss: 1.6549\n"
          ]
        }
      ]
    },
    {
      "cell_type": "markdown",
      "metadata": {
        "id": "YuCNlJCHKf1S"
      },
      "source": [
        "TODO: Implement Adam Optimizer\n",
        "\n",
        "1. Initialize Parameters: Create variables to store the moment estimates (first and second) for each parameter.\n",
        "\n",
        "    Parameters:\n",
        "    - parameters: Dictionary containing weights and biases.\n",
        "\n",
        "    Returns:\n",
        "    - v: First moment vector (initialized to zeros).\n",
        "    - s: Second moment vector (initialized to zeros).\n",
        "    - t: Time step (initialized to 0).\n",
        "\n",
        "2. Update Rules: Implement the update rules based on the gradients, learning rate, and moment estimates.\n"
      ]
    },
    {
      "cell_type": "code",
      "execution_count": null,
      "metadata": {
        "id": "Iqy1_rfsKP8b"
      },
      "outputs": [],
      "source": [
        "def initialize_adam(parameters):\n",
        "    \"\"\"\n",
        "    Initialize the Adam optimizer variables.\n",
        "\n",
        "    Parameters:\n",
        "    - parameters: Dictionary containing weights and biases.\n",
        "\n",
        "    Returns:\n",
        "    - v: First moment vector (initialized to zeros).\n",
        "    - s: Second moment vector (initialized to zeros).\n",
        "    - t: Time step (initialized to 0).\n",
        "    \"\"\"\n",
        "    v = {}\n",
        "    s = {}\n",
        "    t = 0\n",
        "\n",
        "    for key in parameters.keys():\n",
        "        v[key] = np.zeros_like(parameters[key])\n",
        "        s[key] = np.zeros_like(parameters[key])\n",
        "\n",
        "    return v, s, t\n",
        "\n",
        "def update_parameters_with_adam(parameters, gradients, v, s, t, learning_rate=0.001, beta1=0.9, beta2=0.999, epsilon=1e-8):\n",
        "    \"\"\"\n",
        "    Update parameters using the Adam optimizer.\n",
        "\n",
        "    Parameters:\n",
        "    - parameters: Current weights and biases.\n",
        "    - gradients: Calculated gradients.\n",
        "    - v: First moment vector.\n",
        "    - s: Second moment vector.\n",
        "    - t: Time step.\n",
        "    - learning_rate: Learning rate for updates.\n",
        "    - beta1: Exponential decay rate for the first moment estimates.\n",
        "    - beta2: Exponential decay rate for the second moment estimates.\n",
        "    - epsilon: Small constant for numerical stability.\n",
        "\n",
        "    Returns:\n",
        "    - parameters: Updated weights and biases.\n",
        "    - v: Updated first moment vector.\n",
        "    - s: Updated second moment vector.\n",
        "    - t: Updated time step.\n",
        "    \"\"\"\n",
        "    t += 1\n",
        "\n",
        "    for key in parameters.keys():\n",
        "        v[key] = beta1 * v[key] + (1 - beta1) * gradients[key]\n",
        "        s[key] = beta2 * s[key] + (1 - beta2) * (gradients[key] ** 2)\n",
        "\n",
        "        v_corrected = v[key] / (1 - beta1 ** t)\n",
        "        s_corrected = s[key] / (1 - beta2 ** t)\n",
        "\n",
        "        parameters[key] -= learning_rate * v_corrected / (np.sqrt(s_corrected) + epsilon)\n",
        "\n",
        "    return parameters, v, s, t"
      ]
    },
    {
      "cell_type": "markdown",
      "metadata": {
        "id": "-mU6NQXdLQd_"
      },
      "source": [
        "TODO: Implement Adam optimizer into the training loop."
      ]
    },
    {
      "cell_type": "code",
      "execution_count": null,
      "metadata": {
        "colab": {
          "base_uri": "https://localhost:8080/"
        },
        "id": "NMPqxphzKSv8",
        "outputId": "8874f7f7-df1d-4a1d-af99-d4218dddda0f"
      },
      "outputs": [
        {
          "output_type": "stream",
          "name": "stdout",
          "text": [
            "Training with hidden layer size: 32\n",
            "Epoch 0, Loss: 0.6768\n",
            "Epoch 10, Loss: 1.1503\n",
            "Epoch 20, Loss: 1.5860\n",
            "Epoch 30, Loss: 1.8199\n",
            "Epoch 40, Loss: 1.7759\n",
            "Training with hidden layer size: 64\n",
            "Epoch 0, Loss: 0.6776\n",
            "Epoch 10, Loss: 1.5976\n",
            "Epoch 20, Loss: 2.0223\n",
            "Epoch 30, Loss: 1.4687\n",
            "Epoch 40, Loss: 1.1018\n",
            "Training with hidden layer size: 128\n",
            "Epoch 0, Loss: 0.6618\n",
            "Epoch 10, Loss: 2.0383\n",
            "Epoch 20, Loss: 1.3890\n",
            "Epoch 30, Loss: 0.9575\n",
            "Epoch 40, Loss: 0.9277\n"
          ]
        }
      ],
      "source": [
        "def train_model_with_adam(X_train, y_train, hidden_size, epochs=50, learning_rate=0.001):\n",
        "    \"\"\"\n",
        "    Train the neural network model using Adam optimizer.\n",
        "\n",
        "    Parameters:\n",
        "    - X_train: Training data (shape: number of examples x input size).\n",
        "    - y_train: One-hot encoded labels (shape: number of examples x output size).\n",
        "    - hidden_size: Number of neurons in the hidden layer.\n",
        "    - epochs: Number of training epochs.\n",
        "    - learning_rate: Learning rate for optimization.\n",
        "\n",
        "    Returns:\n",
        "    - parameters: Final trained weights and biases.\n",
        "    - loss_history: A list containing the loss at each epoch.\n",
        "    \"\"\"\n",
        "    input_size = X_train.shape[1]\n",
        "    output_size = y_train.shape[1]\n",
        "\n",
        "    parameters = initialize_parameters(input_size, hidden_size, output_size)\n",
        "\n",
        "    v, s, t = initialize_adam(parameters)\n",
        "\n",
        "    loss_history = []\n",
        "\n",
        "    print(f\"Training with hidden layer size: {hidden_size}\")\n",
        "\n",
        "    for epoch in range(epochs):\n",
        "        A2, cache = forward_propagation(X_train, parameters)\n",
        "\n",
        "        loss = compute_loss(y_train, A2)\n",
        "\n",
        "        gradients = backward_propagation(X_train, y_train, parameters, cache)\n",
        "\n",
        "        parameters, v, s, t = update_parameters_with_adam(parameters, gradients, v, s, t, learning_rate)\n",
        "\n",
        "        loss_history.append(loss)\n",
        "        if epoch % 10 == 0:\n",
        "            print(f\"Epoch {epoch}, Loss: {loss:.4f}\")\n",
        "\n",
        "    return parameters, loss_history\n",
        "\n",
        "parameters_32, loss_32 = train_model_with_adam(x_train, y_train, hidden_size=32, epochs=50, learning_rate=0.001)\n",
        "parameters_64, loss_64 = train_model_with_adam(x_train, y_train, hidden_size=64, epochs=50, learning_rate=0.001)\n",
        "parameters_128, loss_128 = train_model_with_adam(x_train, y_train, hidden_size=128, epochs=50, learning_rate=0.001)"
      ]
    },
    {
      "cell_type": "markdown",
      "metadata": {
        "id": "fEZVkGGplXP4"
      },
      "source": [
        "### Compare Adam and RMSprop\n"
      ]
    },
    {
      "cell_type": "markdown",
      "metadata": {
        "id": "7BxQoqf8ak2k"
      },
      "source": [
        "TODO: First, implement the RMSprop optimizer. The RMSprop optimizer uses a moving average of squared gradients to normalize the gradient, which helps to stabilize the updates."
      ]
    },
    {
      "cell_type": "code",
      "execution_count": null,
      "metadata": {
        "id": "117xMpE6avQ2"
      },
      "outputs": [],
      "source": [
        "def initialize_rmsprop(parameters):\n",
        "    \"\"\"\n",
        "    Initialize the RMSprop variables.\n",
        "\n",
        "    Parameters:\n",
        "    - parameters: Dictionary containing weights and biases.\n",
        "\n",
        "    Returns:\n",
        "    - s: Second moment vector (initialized to zeros).\n",
        "    \"\"\"\n",
        "    s = {}\n",
        "    for key in parameters.keys():\n",
        "        s[key] = np.zeros_like(parameters[key])\n",
        "    return s\n",
        "\n",
        "def update_parameters_with_rmsprop(parameters, gradients, s, learning_rate=0.001, beta=0.9, epsilon=1e-8):\n",
        "    \"\"\"\n",
        "    Update parameters using the RMSprop optimizer.\n",
        "\n",
        "    Parameters:\n",
        "    - parameters: Current weights and biases.\n",
        "    - gradients: Calculated gradients.\n",
        "    - s: Second moment vector.\n",
        "    - learning_rate: Learning rate for updates.\n",
        "    - beta: Exponential decay rate for the second moment estimates.\n",
        "    - epsilon: Small constant for numerical stability.\n",
        "\n",
        "    Returns:\n",
        "    - parameters: Updated weights and biases.\n",
        "    - s: Updated second moment vector.\n",
        "    \"\"\"\n",
        "    for key in parameters.keys():\n",
        "        s[key] = beta * s[key] + (1 - beta) * np.square(gradients[f'{key}'])\n",
        "        parameters[key] -= learning_rate * gradients[f'{key}'] / (np.sqrt(s[key]) + epsilon)\n",
        "\n",
        "    return parameters, s"
      ]
    },
    {
      "cell_type": "markdown",
      "metadata": {
        "id": "GWJg1GjFayY2"
      },
      "source": [
        "TODO: Modify the training loop to allow for both optimizers and store the loss history for comparison."
      ]
    },
    {
      "cell_type": "code",
      "execution_count": null,
      "metadata": {
        "id": "iwcuRTkja5pT"
      },
      "outputs": [],
      "source": [
        "def train_model(X_train, y_train, hidden_size, epochs=50, learning_rate=0.001, optimizer='adam'):\n",
        "    \"\"\"\n",
        "    Train the neural network model using the specified optimizer.\n",
        "\n",
        "    Parameters:\n",
        "    - X_train: Training data.\n",
        "    - y_train: One-hot encoded labels.\n",
        "    - hidden_size: Number of neurons in the hidden layer.\n",
        "    - epochs: Number of training epochs.\n",
        "    - learning_rate: Learning rate for optimization.\n",
        "    - optimizer: The optimizer to use ('adam' or 'rmsprop').\n",
        "\n",
        "    Returns:\n",
        "    - parameters: Final trained weights and biases.\n",
        "    - loss_history: List of loss values over epochs.\n",
        "    \"\"\"\n",
        "    input_size = X_train.shape[1]\n",
        "    output_size = y_train.shape[1]\n",
        "\n",
        "    parameters = initialize_parameters(input_size, hidden_size, output_size)\n",
        "\n",
        "    if optimizer == 'adam':\n",
        "        v, s, t = initialize_adam(parameters)\n",
        "    elif optimizer == 'rmsprop':\n",
        "        s = initialize_rmsprop(parameters)\n",
        "    else:\n",
        "        raise ValueError(\"Unsupported optimizer. Choose 'adam' or 'rmsprop'.\")\n",
        "\n",
        "    loss_history = []\n",
        "\n",
        "    for epoch in range(epochs):\n",
        "        A2, cache = forward_propagation(X_train, parameters)\n",
        "\n",
        "        loss = compute_loss(y_train, A2)\n",
        "        loss_history.append(loss)\n",
        "\n",
        "        gradients = backward_propagation(X_train, y_train, parameters, cache)\n",
        "\n",
        "        if optimizer == 'adam':\n",
        "            t += 1\n",
        "            parameters, v, s,_ = update_parameters_with_adam(parameters, gradients, v, s, t, learning_rate)\n",
        "        elif optimizer == 'rmsprop':\n",
        "            parameters, s = update_parameters_with_rmsprop(parameters, gradients, s, learning_rate)\n",
        "\n",
        "        if epoch % 10 == 0:\n",
        "            print(f\"Epoch {epoch}, Loss: {loss:.4f}\")\n",
        "\n",
        "    return parameters, loss_history"
      ]
    },
    {
      "cell_type": "markdown",
      "metadata": {
        "id": "g5cPzN1ma9Xi"
      },
      "source": [
        "TODO:  Compare Both Optimizers. Create a function to train the model using both optimizers and plot the loss histories for comparison."
      ]
    },
    {
      "cell_type": "code",
      "execution_count": null,
      "metadata": {
        "colab": {
          "base_uri": "https://localhost:8080/",
          "height": 790
        },
        "id": "-z5eRURgbDIG",
        "outputId": "c838b383-936a-4162-b5d8-66997cfd13c5"
      },
      "outputs": [
        {
          "output_type": "stream",
          "name": "stdout",
          "text": [
            "Training with Adam optimizer:\n",
            "Epoch 0, Loss: 0.7479\n",
            "Epoch 10, Loss: 2.0212\n",
            "Epoch 20, Loss: 1.9244\n",
            "Epoch 30, Loss: 1.2060\n",
            "Epoch 40, Loss: 1.1251\n",
            "\n",
            "Training with RMSprop optimizer:\n",
            "Epoch 0, Loss: 0.7488\n",
            "Epoch 10, Loss: 1.4083\n",
            "Epoch 20, Loss: 1.1001\n",
            "Epoch 30, Loss: 0.9469\n",
            "Epoch 40, Loss: 0.9326\n"
          ]
        },
        {
          "output_type": "display_data",
          "data": {
            "text/plain": [
              "<Figure size 1000x600 with 1 Axes>"
            ],
            "image/png": "[encoded data removed]"
          },
          "metadata": {}
        }
      ],
      "source": [
        "def compare_optimizers(X_train, y_train, hidden_size, epochs=50):\n",
        "    \"\"\"\n",
        "    Compare the Adam and RMSprop optimizers.\n",
        "\n",
        "    Parameters:\n",
        "    - X_train: Training data.\n",
        "    - y_train: One-hot encoded labels.\n",
        "    - hidden_size: Number of neurons in the hidden layer.\n",
        "    - epochs: Number of training epochs.\n",
        "\n",
        "    Returns:\n",
        "    - A plot showing the loss curves for both optimizers.\n",
        "    \"\"\"\n",
        "\n",
        "    print(\"Training with Adam optimizer:\")\n",
        "    parameters_adam, loss_adam = train_model(X_train, y_train, hidden_size, epochs=epochs, optimizer='adam')\n",
        "\n",
        "\n",
        "    print(\"\\nTraining with RMSprop optimizer:\")\n",
        "    parameters_rmsprop, loss_rmsprop = train_model(X_train, y_train, hidden_size, epochs=epochs, optimizer='rmsprop')\n",
        "\n",
        "\n",
        "    plt.figure(figsize=(10, 6))\n",
        "    plt.plot(loss_adam, label='Adam', color='blue')\n",
        "    plt.plot(loss_rmsprop, label='RMSprop', color='orange')\n",
        "    plt.title(f'Loss Comparison of Adam and RMSprop (Hidden Size: {hidden_size})')\n",
        "    plt.xlabel('Epochs')\n",
        "    plt.ylabel('Loss')\n",
        "    plt.legend()\n",
        "    plt.grid(True)\n",
        "    plt.show()\n",
        "\n",
        "compare_optimizers(x_train, y_train, hidden_size=64, epochs=50)"
      ]
    },
    {
      "cell_type": "markdown",
      "metadata": {
        "id": "pueHFmTUlXP5"
      },
      "source": [
        "## Stochastic Gradient Descent (SGD)"
      ]
    },
    {
      "cell_type": "markdown",
      "metadata": {
        "id": "3zrSW4LilXP5"
      },
      "source": [
        "### Impact of Different Learning Rates on SGD\n"
      ]
    },
    {
      "cell_type": "markdown",
      "metadata": {
        "id": "BU9BiBsKcWjb"
      },
      "source": [
        "Explore the impact of different learning rates on the training dynamics and performance of Stochastic Gradient Descent (SGD). This will allow us to observe how the learning rate affects convergence speed, stability, and final performance.\n",
        "\n",
        "Steps for Implementing the Experiment\n",
        "\n",
        "1. Define the SGD Optimizer: Implement a simple SGD optimizer.\n",
        "2. Modify the Training Loop: Allow for different learning rates.\n",
        "3. Train the Model: Run the training process with a set of predefined learning rates.\n",
        "4. Visualize the Results: Plot the loss curves for each learning rate to compare their effects"
      ]
    },
    {
      "cell_type": "markdown",
      "metadata": {
        "id": "vDRSuNVrcvVI"
      },
      "source": [
        "1. Implement SGD Optimizer\n"
      ]
    },
    {
      "cell_type": "code",
      "execution_count": null,
      "metadata": {
        "id": "r9UE2OHfcwCe"
      },
      "outputs": [],
      "source": [
        "def update_parameters_with_sgd(parameters, gradients, learning_rate=0.01):\n",
        "    \"\"\"\n",
        "    Update parameters using Stochastic Gradient Descent (SGD).\n",
        "\n",
        "    Parameters:\n",
        "    - parameters: Current weights and biases.\n",
        "    - gradients: Calculated gradients.\n",
        "    - learning_rate: Learning rate for updates.\n",
        "\n",
        "    Returns:\n",
        "    - parameters: Updated weights and biases.\n",
        "    \"\"\"\n",
        "    parameters['W1'] -= learning_rate * gradients['W1']\n",
        "    parameters['b1'] -= learning_rate * gradients['b1']\n",
        "    parameters['W2'] -= learning_rate * gradients['W2']\n",
        "    parameters['b2'] -= learning_rate * gradients['b2']\n",
        "    return parameters"
      ]
    },
    {
      "cell_type": "markdown",
      "metadata": {
        "id": "O4qIjyg9cyXB"
      },
      "source": [
        "2. Modify the Training Loop\n"
      ]
    },
    {
      "cell_type": "code",
      "execution_count": null,
      "metadata": {
        "id": "U1gKM56IdBH-"
      },
      "outputs": [],
      "source": [
        "def train_model_with_sgd(X_train, y_train, hidden_size, epochs=50, learning_rate=0.01):\n",
        "    \"\"\"\n",
        "    Train the neural network model using SGD optimizer.\n",
        "\n",
        "    Parameters:\n",
        "    - X_train: Training data.\n",
        "    - y_train: One-hot encoded labels.\n",
        "    - hidden_size: Number of neurons in the hidden layer.\n",
        "    - epochs: Number of training epochs.\n",
        "    - learning_rate: Learning rate for optimization.\n",
        "\n",
        "    Returns:\n",
        "    - loss_history: List of loss values over epochs.\n",
        "    \"\"\"\n",
        "    parameters = initialize_parameters(X_train.shape[1], hidden_size, y_train.shape[1])\n",
        "    loss_history = []\n",
        "    for epoch in range(epochs):\n",
        "        A2, cache = forward_propagation(X_train, parameters)\n",
        "        loss = compute_loss(y_train, A2)\n",
        "        gradients = backward_propagation(X_train, y_train, parameters, cache)\n",
        "        parameters = update_parameters_with_sgd(parameters, gradients, learning_rate)\n",
        "        loss_history.append(loss)\n",
        "        if epoch % 10 == 0:\n",
        "            print(f\"Epoch {epoch}, Loss (learning rate {learning_rate}): {loss:.4f}\")\n",
        "    return parameters, loss_history"
      ]
    },
    {
      "cell_type": "markdown",
      "metadata": {
        "id": "CeQpjFQHdD4v"
      },
      "source": [
        "3. Experiment with Different Learning Rates\n"
      ]
    },
    {
      "cell_type": "code",
      "execution_count": null,
      "metadata": {
        "colab": {
          "base_uri": "https://localhost:8080/",
          "height": 929
        },
        "id": "FvFIXxFRdGDv",
        "outputId": "53f38f1e-e385-47cf-d432-65d2edc9c664"
      },
      "outputs": [
        {
          "output_type": "stream",
          "name": "stdout",
          "text": [
            "\n",
            "Training with learning rate: 0.001\n",
            "Epoch 0, Loss (learning rate 0.001): 0.9949\n",
            "Epoch 10, Loss (learning rate 0.001): 1.1674\n",
            "Epoch 20, Loss (learning rate 0.001): 1.3208\n",
            "Epoch 30, Loss (learning rate 0.001): 1.4504\n",
            "Epoch 40, Loss (learning rate 0.001): 1.5557\n",
            "\n",
            "Training with learning rate: 0.01\n",
            "Epoch 0, Loss (learning rate 0.01): 0.8201\n",
            "Epoch 10, Loss (learning rate 0.01): 1.8130\n",
            "Epoch 20, Loss (learning rate 0.01): 1.8885\n",
            "Epoch 30, Loss (learning rate 0.01): 1.8046\n",
            "Epoch 40, Loss (learning rate 0.01): 1.7001\n",
            "\n",
            "Training with learning rate: 0.1\n",
            "Epoch 0, Loss (learning rate 0.1): 0.7836\n",
            "Epoch 10, Loss (learning rate 0.1): 1.3187\n",
            "Epoch 20, Loss (learning rate 0.1): 1.0407\n",
            "Epoch 30, Loss (learning rate 0.1): 0.9242\n",
            "Epoch 40, Loss (learning rate 0.1): 0.8553\n"
          ]
        },
        {
          "output_type": "display_data",
          "data": {
            "text/plain": [
              "<Figure size 800x600 with 1 Axes>"
            ],
            "image/png": "[encoded data removed]"
          },
          "metadata": {}
        }
      ],
      "source": [
        "def compare_learning_rates(X_train, y_train, hidden_size, epochs=50, learning_rates=[0.001, 0.01, 0.1]):\n",
        "    \"\"\"\n",
        "    Compare the performance of SGD with different learning rates.\n",
        "\n",
        "    Parameters:\n",
        "    - X_train: Training data.\n",
        "    - y_train: One-hot encoded labels.\n",
        "    - hidden_size: Number of neurons in the hidden layer.\n",
        "    - epochs: Number of training epochs.\n",
        "    - learning_rates: List of learning rates to test.\n",
        "    \"\"\"\n",
        "    histories = {}\n",
        "    for lr in learning_rates:\n",
        "        print(f\"\\nTraining with learning rate: {lr}\")\n",
        "        _, loss_history = train_model_with_sgd(X_train, y_train, hidden_size, epochs, learning_rate=lr)\n",
        "        histories[lr] = loss_history\n",
        "    plt.figure(figsize=(8, 6))\n",
        "    for lr in learning_rates:\n",
        "        plt.plot(histories[lr], label=f\"LR: {lr}\")\n",
        "    plt.title('Learning Rate Comparison')\n",
        "    plt.xlabel('Epochs')\n",
        "    plt.ylabel('Loss')\n",
        "    plt.legend()\n",
        "    plt.show()\n",
        "\n",
        "compare_learning_rates(x_train, y_train, 128)"
      ]
    },
    {
      "cell_type": "markdown",
      "metadata": {
        "id": "IXxuYU7llXP6"
      },
      "source": [
        "### SGD with Momentum vs. Classic SGD\n"
      ]
    },
    {
      "cell_type": "markdown",
      "metadata": {
        "id": "R8dcD51aepnC"
      },
      "source": [
        "TODO: Compare Stochastic Gradient Descent (SGD) with momentum and classic SGD, you can set up an experiment that trains the same model using both methods. This will help you observe differences in convergence speed and stability.\n",
        "\n",
        "Steps for Implementing the Comparison:\n",
        "\n",
        "1. Implement Classic SGD: Ensure you have a basic SGD implementation.(already implemented in the previous cells)\n",
        "\n",
        "2. Implement SGD with Momentum: Add a momentum version of the SGD optimizer.\n",
        "\n",
        "3. Modify the Training Loop: Allow for both optimizers in the training process.\n",
        "\n",
        "4. Train the Model: Run the training process using both optimizers.\n",
        "\n",
        "5. Visualize the Results: Plot the loss curves for each optimizer to compare their performance."
      ]
    },
    {
      "cell_type": "markdown",
      "metadata": {
        "id": "9-czqAXNe_nQ"
      },
      "source": [
        "2. Implement SGD with Momentum\n"
      ]
    },
    {
      "cell_type": "code",
      "execution_count": null,
      "metadata": {
        "id": "8uzLkhWcfB6a"
      },
      "outputs": [],
      "source": [
        "def initialize_momentum(parameters):\n",
        "    \"\"\"\n",
        "    Initialize the momentum variables.\n",
        "\n",
        "    Parameters:\n",
        "    - parameters: Dictionary containing weights and biases.\n",
        "\n",
        "    Returns:\n",
        "    - v: Momentum variable (initialized to zeros).\n",
        "    \"\"\"\n",
        "    v = {}\n",
        "\n",
        "    for key in parameters.keys():\n",
        "      v[key] = np.zeros_like(parameters)\n",
        "\n",
        "    return v\n",
        "\n",
        "def update_parameters_with_momentum(parameters, gradients, v, learning_rate=0.01, beta=0.9):\n",
        "    \"\"\"\n",
        "    Update parameters using SGD with momentum.\n",
        "\n",
        "    Parameters:\n",
        "    - parameters: Current weights and biases.\n",
        "    - gradients: Calculated gradients.\n",
        "    - v: Momentum variable.\n",
        "    - learning_rate: Learning rate for updates.\n",
        "    - beta: Exponential decay rate for momentum.\n",
        "\n",
        "    Returns:\n",
        "    - parameters: Updated weights and biases.\n",
        "    - v: Updated momentum variable.\n",
        "    \"\"\"\n",
        "\n",
        "    for key in parameters:\n",
        "      v[key] = beta * v[key] + (1 - beta) * gradients[key]\n",
        "      parameters[key] -= learning_rate * v[key]\n",
        "\n",
        "    return parameters, v\n"
      ]
    },
    {
      "cell_type": "markdown",
      "metadata": {
        "id": "k_DvOLijfIFK"
      },
      "source": [
        "3. Modify the Training Loop\n"
      ]
    },
    {
      "cell_type": "code",
      "execution_count": null,
      "metadata": {
        "id": "uz3jxDtCfIuA"
      },
      "outputs": [],
      "source": [
        "def train_model(X_train, y_train, hidden_size, epochs=50, learning_rate=0.01, optimizer='sgd'):\n",
        "    \"\"\"\n",
        "    Train the neural network model using specified optimizer.\n",
        "\n",
        "    Parameters:\n",
        "    - X_train: Training data.\n",
        "    - y_train: One-hot encoded labels.\n",
        "    - hidden_size: Number of neurons in the hidden layer.\n",
        "    - epochs: Number of training epochs.\n",
        "    - learning_rate: Learning rate for optimization.\n",
        "    - optimizer: The optimizer to use ('sgd' or 'momentum').\n",
        "\n",
        "    Returns:\n",
        "    - loss_history: List of loss values over epochs.\n",
        "    \"\"\"\n",
        "    input_size = X_train.shape[1]\n",
        "    output_size = y_train.shape[1]\n",
        "\n",
        "    parameters = initialize_parameters(input_size, hidden_size, output_size)\n",
        "    loss_history = []\n",
        "\n",
        "    v = initialize_momentum(parameters)\n",
        "\n",
        "    for epoch in range(epochs):\n",
        "        A2, cache = forward_propagation(X_train, parameters)\n",
        "\n",
        "        loss = compute_loss(y_train, A2)\n",
        "        loss_history.append(loss)\n",
        "\n",
        "        gradients = backward_propagation(X_train, y_train, parameters, cache)\n",
        "\n",
        "        if optimizer == 'sgd':\n",
        "            parameters = update_parameters_with_sgd(parameters, gradients, learning_rate)\n",
        "        elif optimizer == 'momentum':\n",
        "            parameters, v = update_parameters_with_momentum(parameters, gradients, v, learning_rate)\n",
        "\n",
        "        if (epoch + 1) % 10 == 0:\n",
        "            print(f\"Epoch {epoch + 1}/{epochs} , Loss ({optimizer}): {loss:.4f}\")\n",
        "\n",
        "    return loss_history\n"
      ]
    },
    {
      "cell_type": "markdown",
      "metadata": {
        "id": "wVbv6XeYfLbf"
      },
      "source": [
        "4. Train the Model with Both Optimizers\n"
      ]
    },
    {
      "cell_type": "code",
      "execution_count": null,
      "metadata": {
        "id": "0zEcNXJGfOTf",
        "colab": {
          "base_uri": "https://localhost:8080/",
          "height": 715
        },
        "outputId": "80d3d47c-6b11-4fbb-9630-86e65d9d7e3e"
      },
      "outputs": [
        {
          "output_type": "stream",
          "name": "stdout",
          "text": [
            "\n",
            "Training with Classic SGD...\n",
            "Epoch 10/50 , Loss (sgd): 1.3038\n",
            "Epoch 20/50 , Loss (sgd): 1.7722\n",
            "Epoch 30/50 , Loss (sgd): 1.8820\n",
            "Epoch 40/50 , Loss (sgd): 1.8629\n",
            "Epoch 50/50 , Loss (sgd): 1.8064\n",
            "\n",
            "Training with SGD with Momentum...\n",
            "Epoch 10/50 , Loss (momentum): 1.2159\n",
            "Epoch 20/50 , Loss (momentum): 1.8961\n",
            "Epoch 30/50 , Loss (momentum): 2.3246\n",
            "Epoch 40/50 , Loss (momentum): 2.2492\n",
            "Epoch 50/50 , Loss (momentum): 1.9891\n"
          ]
        },
        {
          "output_type": "display_data",
          "data": {
            "text/plain": [
              "<Figure size 640x480 with 1 Axes>"
            ],
            "image/png": "[encoded data removed]"
          },
          "metadata": {}
        }
      ],
      "source": [
        "def compare_sgd_and_momentum(X_train, y_train, hidden_size, epochs=50):\n",
        "    \"\"\"\n",
        "    Compare the performance of classic SGD and SGD with momentum.\n",
        "\n",
        "    Parameters:\n",
        "    - X_train: Training data.\n",
        "    - y_train: One-hot encoded labels.\n",
        "    - hidden_size: Number of neurons in the hidden layer.\n",
        "    - epochs: Number of training epochs.\n",
        "    \"\"\"\n",
        "    results = {}\n",
        "\n",
        "    print(f\"\\nTraining with Classic SGD...\")\n",
        "    results[0] = train_model(X_train, y_train, hidden_size, epochs=50, learning_rate=0.01, optimizer='sgd')\n",
        "\n",
        "\n",
        "    print(f\"\\nTraining with SGD with Momentum...\")\n",
        "    results[1] = train_model(X_train, y_train, hidden_size, epochs=50, learning_rate=0.01, optimizer='momentum')\n",
        "\n",
        "    plt.plot(range(epochs), results[0], label='SGD', color='blue')\n",
        "    plt.plot(range(epochs), results[1], label='Momentum', color='red')\n",
        "\n",
        "    plt.xlabel(\"Epochs\")\n",
        "    plt.ylabel(\"Loss\")\n",
        "    plt.grid()\n",
        "    plt.legend()\n",
        "    plt.title(\"Loss Comparison: Classic SGD vs. SGD with Momentum\")\n",
        "    plt.show()\n",
        "\n",
        "compare_sgd_and_momentum(x_train, y_train, hidden_size=64, epochs=50)\n"
      ]
    },
    {
      "cell_type": "markdown",
      "metadata": {
        "id": "OhaXIjuClXP6"
      },
      "source": [
        "## Mini-Batch Gradient Descent"
      ]
    },
    {
      "cell_type": "markdown",
      "metadata": {
        "id": "wpBVHm6elXP6"
      },
      "source": [
        "### Mini-Batch Size Optimization"
      ]
    },
    {
      "cell_type": "markdown",
      "metadata": {
        "id": "rUDwKXOAgc2h"
      },
      "source": [
        "TODO: Investigate how different mini-batch sizes affect model performance, you can set up an experiment where you train the same model using various mini-batch sizes.\n",
        "\n",
        "Steps for Implementing the Mini-Batch Size Experiment\n",
        "\n",
        "1. Modify the Training Loop: Update the training loop to use mini-batches.\n",
        "2. Train the Model: Run the training process with a set of predefined mini-batch sizes.\n",
        "3. Evaluate Performance: Track training time and accuracy for each mini-batch size.\n",
        "4. Print the training losses and accuracies for comparison."
      ]
    },
    {
      "cell_type": "markdown",
      "metadata": {
        "id": "sz2dJu_PgvJH"
      },
      "source": [
        "1. Modify the Training Loop for Mini-Batches\n"
      ]
    },
    {
      "cell_type": "code",
      "execution_count": null,
      "metadata": {
        "id": "2eBWqUKwgqqN"
      },
      "outputs": [],
      "source": [
        "def train_model_with_mini_batches(X_train, y_train, hidden_size, epochs=50, learning_rate=0.01, batch_size=32):\n",
        "    \"\"\"\n",
        "    Train the neural network model using mini-batches.\n",
        "\n",
        "    Parameters:\n",
        "    - X_train: Training data.\n",
        "    - y_train: One-hot encoded labels.\n",
        "    - hidden_size: Number of neurons in the hidden layer.\n",
        "    - epochs: Number of training epochs.\n",
        "    - learning_rate: Learning rate for optimization.\n",
        "    - batch_size: Size of mini-batches.\n",
        "\n",
        "    Returns:\n",
        "    - loss_history: List of loss values over epochs.\n",
        "    - accuracy_history: List of accuracy values over epochs.\n",
        "    \"\"\"\n",
        "    input_size = X_train.shape[1]\n",
        "    output_size = y_train.shape[1]\n",
        "\n",
        "    parameters = initialize_parameters(input_size, hidden_size, output_size)\n",
        "    loss_history = []\n",
        "    accuracy_history = []\n",
        "\n",
        "    for epoch in range(epochs):\n",
        "        permutation = np.random.permutation(X_train.shape[0])\n",
        "        X_shuffled = X_train[permutation]\n",
        "        y_shuffled = y_train[permutation]\n",
        "\n",
        "        epoch_loss = 0\n",
        "        correct_predictions = 0\n",
        "\n",
        "        for i in range(0, X_train.shape[0], batch_size):\n",
        "            X_batch = X_shuffled[i:i + batch_size]\n",
        "            y_batch = y_shuffled[i:i + batch_size]\n",
        "\n",
        "            A2, cache = forward_propagation(X_batch, parameters)\n",
        "\n",
        "            batch_loss = compute_loss(y_batch, A2)\n",
        "            epoch_loss += batch_loss\n",
        "\n",
        "            predictions = np.argmax(A2, axis=1)\n",
        "            true_labels = np.argmax(y_batch, axis=1)\n",
        "            correct_predictions += np.sum(predictions == true_labels)\n",
        "\n",
        "            gradients = backward_propagation(X_batch, y_batch, parameters, cache)\n",
        "\n",
        "            parameters = update_parameters_with_sgd(parameters, gradients, learning_rate)\n",
        "\n",
        "        loss_history.append(epoch_loss / (X_train.shape[0] // batch_size))\n",
        "        accuracy_history.append(correct_predictions / X_train.shape[0])\n",
        "\n",
        "        if (epoch + 1) % 10 == 0 or epoch == 0:\n",
        "            print(f\"Epoch {epoch + 1}/{epochs}, Loss: {loss_history[-1]:.4f}, Accuracy: {accuracy_history[-1]:.4f}\")\n",
        "\n",
        "    return loss_history, accuracy_history\n"
      ]
    },
    {
      "cell_type": "markdown",
      "metadata": {
        "id": "ja1aWHjwgwMl"
      },
      "source": [
        "2. Train the Model with Different Mini-Batch Sizes\n"
      ]
    },
    {
      "cell_type": "code",
      "execution_count": null,
      "metadata": {
        "id": "R7vvj-y_is_k",
        "colab": {
          "base_uri": "https://localhost:8080/"
        },
        "outputId": "30665adf-111a-43f7-eb08-640994f351ce"
      },
      "outputs": [
        {
          "output_type": "stream",
          "name": "stdout",
          "text": [
            "\n",
            "Training with mini-batch size: 16\n",
            "Epoch 1/50, Loss: 0.7163, Accuracy: 0.7640\n",
            "Epoch 10/50, Loss: 0.3670, Accuracy: 0.8761\n",
            "Epoch 20/50, Loss: 0.3143, Accuracy: 0.8942\n",
            "Epoch 30/50, Loss: 0.2850, Accuracy: 0.9036\n",
            "Epoch 40/50, Loss: 0.2630, Accuracy: 0.9120\n",
            "Epoch 50/50, Loss: 0.2467, Accuracy: 0.9181\n",
            "Epoch 0, Loss: 0.7163, Accuracy: 0.7640\n",
            "Epoch 1, Loss: 0.5177, Accuracy: 0.8293\n",
            "Epoch 2, Loss: 0.4711, Accuracy: 0.8457\n",
            "Epoch 3, Loss: 0.4435, Accuracy: 0.8539\n",
            "Epoch 4, Loss: 0.4230, Accuracy: 0.8593\n",
            "Epoch 5, Loss: 0.4079, Accuracy: 0.8651\n",
            "Epoch 6, Loss: 0.3945, Accuracy: 0.8703\n",
            "Epoch 7, Loss: 0.3846, Accuracy: 0.8722\n",
            "Epoch 8, Loss: 0.3750, Accuracy: 0.8747\n",
            "Epoch 9, Loss: 0.3670, Accuracy: 0.8761\n",
            "Epoch 10, Loss: 0.3593, Accuracy: 0.8801\n",
            "Epoch 11, Loss: 0.3527, Accuracy: 0.8821\n",
            "Epoch 12, Loss: 0.3455, Accuracy: 0.8845\n",
            "Epoch 13, Loss: 0.3406, Accuracy: 0.8848\n",
            "Epoch 14, Loss: 0.3348, Accuracy: 0.8874\n",
            "Epoch 15, Loss: 0.3304, Accuracy: 0.8886\n",
            "Epoch 16, Loss: 0.3262, Accuracy: 0.8900\n",
            "Epoch 17, Loss: 0.3218, Accuracy: 0.8910\n",
            "Epoch 18, Loss: 0.3182, Accuracy: 0.8927\n",
            "Epoch 19, Loss: 0.3143, Accuracy: 0.8942\n",
            "Epoch 20, Loss: 0.3104, Accuracy: 0.8953\n",
            "Epoch 21, Loss: 0.3081, Accuracy: 0.8966\n",
            "Epoch 22, Loss: 0.3044, Accuracy: 0.8984\n",
            "Epoch 23, Loss: 0.3003, Accuracy: 0.8986\n",
            "Epoch 24, Loss: 0.2982, Accuracy: 0.8987\n",
            "Epoch 25, Loss: 0.2962, Accuracy: 0.9005\n",
            "Epoch 26, Loss: 0.2922, Accuracy: 0.9013\n",
            "Epoch 27, Loss: 0.2899, Accuracy: 0.9026\n",
            "Epoch 28, Loss: 0.2872, Accuracy: 0.9031\n",
            "Epoch 29, Loss: 0.2850, Accuracy: 0.9036\n",
            "Epoch 30, Loss: 0.2826, Accuracy: 0.9040\n",
            "Epoch 31, Loss: 0.2799, Accuracy: 0.9057\n",
            "Epoch 32, Loss: 0.2778, Accuracy: 0.9069\n",
            "Epoch 33, Loss: 0.2761, Accuracy: 0.9073\n",
            "Epoch 34, Loss: 0.2730, Accuracy: 0.9080\n",
            "Epoch 35, Loss: 0.2723, Accuracy: 0.9084\n",
            "Epoch 36, Loss: 0.2700, Accuracy: 0.9101\n",
            "Epoch 37, Loss: 0.2676, Accuracy: 0.9097\n",
            "Epoch 38, Loss: 0.2652, Accuracy: 0.9113\n",
            "Epoch 39, Loss: 0.2630, Accuracy: 0.9120\n",
            "Epoch 40, Loss: 0.2611, Accuracy: 0.9133\n",
            "Epoch 41, Loss: 0.2601, Accuracy: 0.9133\n",
            "Epoch 42, Loss: 0.2587, Accuracy: 0.9142\n",
            "Epoch 43, Loss: 0.2570, Accuracy: 0.9140\n",
            "Epoch 44, Loss: 0.2533, Accuracy: 0.9159\n",
            "Epoch 45, Loss: 0.2525, Accuracy: 0.9157\n",
            "Epoch 46, Loss: 0.2517, Accuracy: 0.9170\n",
            "Epoch 47, Loss: 0.2499, Accuracy: 0.9167\n",
            "Epoch 48, Loss: 0.2478, Accuracy: 0.9176\n",
            "Epoch 49, Loss: 0.2467, Accuracy: 0.9181\n",
            "Final Loss for batch size 16: 0.2467\n",
            "Final Accuracy for batch size 16: 0.9181\n",
            "\n",
            "Training with mini-batch size: 32\n",
            "Epoch 1/50, Loss: 0.8678, Accuracy: 0.6980\n",
            "Epoch 10/50, Loss: 0.4212, Accuracy: 0.8618\n",
            "Epoch 20/50, Loss: 0.3621, Accuracy: 0.8788\n",
            "Epoch 30/50, Loss: 0.3287, Accuracy: 0.8908\n",
            "Epoch 40/50, Loss: 0.3065, Accuracy: 0.8983\n",
            "Epoch 50/50, Loss: 0.2891, Accuracy: 0.9040\n",
            "Epoch 0, Loss: 0.8678, Accuracy: 0.6980\n",
            "Epoch 1, Loss: 0.5989, Accuracy: 0.8021\n",
            "Epoch 2, Loss: 0.5390, Accuracy: 0.8243\n",
            "Epoch 3, Loss: 0.5070, Accuracy: 0.8339\n",
            "Epoch 4, Loss: 0.4842, Accuracy: 0.8417\n",
            "Epoch 5, Loss: 0.4670, Accuracy: 0.8473\n",
            "Epoch 6, Loss: 0.4529, Accuracy: 0.8523\n",
            "Epoch 7, Loss: 0.4408, Accuracy: 0.8553\n",
            "Epoch 8, Loss: 0.4302, Accuracy: 0.8581\n",
            "Epoch 9, Loss: 0.4212, Accuracy: 0.8618\n",
            "Epoch 10, Loss: 0.4131, Accuracy: 0.8650\n",
            "Epoch 11, Loss: 0.4056, Accuracy: 0.8661\n",
            "Epoch 12, Loss: 0.3988, Accuracy: 0.8692\n",
            "Epoch 13, Loss: 0.3926, Accuracy: 0.8712\n",
            "Epoch 14, Loss: 0.3862, Accuracy: 0.8724\n",
            "Epoch 15, Loss: 0.3808, Accuracy: 0.8744\n",
            "Epoch 16, Loss: 0.3755, Accuracy: 0.8757\n",
            "Epoch 17, Loss: 0.3701, Accuracy: 0.8772\n",
            "Epoch 18, Loss: 0.3662, Accuracy: 0.8777\n",
            "Epoch 19, Loss: 0.3621, Accuracy: 0.8788\n",
            "Epoch 20, Loss: 0.3573, Accuracy: 0.8817\n",
            "Epoch 21, Loss: 0.3536, Accuracy: 0.8824\n",
            "Epoch 22, Loss: 0.3500, Accuracy: 0.8834\n",
            "Epoch 23, Loss: 0.3463, Accuracy: 0.8841\n",
            "Epoch 24, Loss: 0.3430, Accuracy: 0.8862\n",
            "Epoch 25, Loss: 0.3396, Accuracy: 0.8880\n",
            "Epoch 26, Loss: 0.3375, Accuracy: 0.8878\n",
            "Epoch 27, Loss: 0.3340, Accuracy: 0.8891\n",
            "Epoch 28, Loss: 0.3313, Accuracy: 0.8895\n",
            "Epoch 29, Loss: 0.3287, Accuracy: 0.8908\n",
            "Epoch 30, Loss: 0.3260, Accuracy: 0.8920\n",
            "Epoch 31, Loss: 0.3234, Accuracy: 0.8917\n",
            "Epoch 32, Loss: 0.3216, Accuracy: 0.8924\n",
            "Epoch 33, Loss: 0.3185, Accuracy: 0.8940\n",
            "Epoch 34, Loss: 0.3165, Accuracy: 0.8953\n",
            "Epoch 35, Loss: 0.3143, Accuracy: 0.8958\n",
            "Epoch 36, Loss: 0.3120, Accuracy: 0.8952\n",
            "Epoch 37, Loss: 0.3109, Accuracy: 0.8962\n",
            "Epoch 38, Loss: 0.3081, Accuracy: 0.8962\n",
            "Epoch 39, Loss: 0.3065, Accuracy: 0.8983\n",
            "Epoch 40, Loss: 0.3048, Accuracy: 0.8987\n",
            "Epoch 41, Loss: 0.3028, Accuracy: 0.8989\n",
            "Epoch 42, Loss: 0.3005, Accuracy: 0.9000\n",
            "Epoch 43, Loss: 0.2983, Accuracy: 0.8999\n",
            "Epoch 44, Loss: 0.2971, Accuracy: 0.9011\n",
            "Epoch 45, Loss: 0.2957, Accuracy: 0.9021\n",
            "Epoch 46, Loss: 0.2937, Accuracy: 0.9014\n",
            "Epoch 47, Loss: 0.2916, Accuracy: 0.9035\n",
            "Epoch 48, Loss: 0.2908, Accuracy: 0.9028\n",
            "Epoch 49, Loss: 0.2891, Accuracy: 0.9040\n",
            "Final Loss for batch size 32: 0.2891\n",
            "Final Accuracy for batch size 32: 0.9040\n",
            "\n",
            "Training with mini-batch size: 64\n",
            "Epoch 1/50, Loss: 1.0225, Accuracy: 0.6509\n",
            "Epoch 10/50, Loss: 0.4718, Accuracy: 0.8464\n",
            "Epoch 20/50, Loss: 0.4138, Accuracy: 0.8655\n",
            "Epoch 30/50, Loss: 0.3814, Accuracy: 0.8746\n",
            "Epoch 40/50, Loss: 0.3586, Accuracy: 0.8816\n",
            "Epoch 50/50, Loss: 0.3423, Accuracy: 0.8855\n",
            "Epoch 0, Loss: 1.0225, Accuracy: 0.6509\n",
            "Epoch 1, Loss: 0.6845, Accuracy: 0.7719\n",
            "Epoch 2, Loss: 0.6100, Accuracy: 0.8011\n",
            "Epoch 3, Loss: 0.5689, Accuracy: 0.8159\n",
            "Epoch 4, Loss: 0.5402, Accuracy: 0.8252\n",
            "Epoch 5, Loss: 0.5205, Accuracy: 0.8310\n",
            "Epoch 6, Loss: 0.5044, Accuracy: 0.8363\n",
            "Epoch 7, Loss: 0.4922, Accuracy: 0.8397\n",
            "Epoch 8, Loss: 0.4812, Accuracy: 0.8428\n",
            "Epoch 9, Loss: 0.4718, Accuracy: 0.8464\n",
            "Epoch 10, Loss: 0.4637, Accuracy: 0.8493\n",
            "Epoch 11, Loss: 0.4558, Accuracy: 0.8520\n",
            "Epoch 12, Loss: 0.4494, Accuracy: 0.8541\n",
            "Epoch 13, Loss: 0.4432, Accuracy: 0.8557\n",
            "Epoch 14, Loss: 0.4377, Accuracy: 0.8574\n",
            "Epoch 15, Loss: 0.4319, Accuracy: 0.8590\n",
            "Epoch 16, Loss: 0.4273, Accuracy: 0.8615\n",
            "Epoch 17, Loss: 0.4228, Accuracy: 0.8621\n",
            "Epoch 18, Loss: 0.4174, Accuracy: 0.8636\n",
            "Epoch 19, Loss: 0.4138, Accuracy: 0.8655\n",
            "Epoch 20, Loss: 0.4097, Accuracy: 0.8667\n",
            "Epoch 21, Loss: 0.4064, Accuracy: 0.8678\n",
            "Epoch 22, Loss: 0.4023, Accuracy: 0.8681\n",
            "Epoch 23, Loss: 0.3993, Accuracy: 0.8689\n",
            "Epoch 24, Loss: 0.3959, Accuracy: 0.8691\n",
            "Epoch 25, Loss: 0.3924, Accuracy: 0.8712\n",
            "Epoch 26, Loss: 0.3897, Accuracy: 0.8716\n",
            "Epoch 27, Loss: 0.3868, Accuracy: 0.8734\n",
            "Epoch 28, Loss: 0.3841, Accuracy: 0.8733\n",
            "Epoch 29, Loss: 0.3814, Accuracy: 0.8746\n",
            "Epoch 30, Loss: 0.3792, Accuracy: 0.8753\n",
            "Epoch 31, Loss: 0.3765, Accuracy: 0.8760\n",
            "Epoch 32, Loss: 0.3744, Accuracy: 0.8772\n",
            "Epoch 33, Loss: 0.3719, Accuracy: 0.8779\n",
            "Epoch 34, Loss: 0.3693, Accuracy: 0.8785\n",
            "Epoch 35, Loss: 0.3669, Accuracy: 0.8786\n",
            "Epoch 36, Loss: 0.3651, Accuracy: 0.8789\n",
            "Epoch 37, Loss: 0.3631, Accuracy: 0.8809\n",
            "Epoch 38, Loss: 0.3611, Accuracy: 0.8807\n",
            "Epoch 39, Loss: 0.3586, Accuracy: 0.8816\n",
            "Epoch 40, Loss: 0.3574, Accuracy: 0.8819\n",
            "Epoch 41, Loss: 0.3554, Accuracy: 0.8824\n",
            "Epoch 42, Loss: 0.3531, Accuracy: 0.8830\n",
            "Epoch 43, Loss: 0.3517, Accuracy: 0.8834\n",
            "Epoch 44, Loss: 0.3501, Accuracy: 0.8837\n",
            "Epoch 45, Loss: 0.3489, Accuracy: 0.8841\n",
            "Epoch 46, Loss: 0.3463, Accuracy: 0.8854\n",
            "Epoch 47, Loss: 0.3452, Accuracy: 0.8850\n",
            "Epoch 48, Loss: 0.3432, Accuracy: 0.8867\n",
            "Epoch 49, Loss: 0.3423, Accuracy: 0.8855\n",
            "Final Loss for batch size 64: 0.3423\n",
            "Final Accuracy for batch size 64: 0.8855\n"
          ]
        }
      ],
      "source": [
        "def compare_mini_batch_sizes(X_train, y_train, hidden_size, epochs=50, batch_sizes=[16, 32, 64]):\n",
        "    \"\"\"\n",
        "    Compare the performance of different mini-batch sizes and print results.\n",
        "\n",
        "    Parameters:\n",
        "    - X_train: Training data.\n",
        "    - y_train: One-hot encoded labels.\n",
        "    - hidden_size: Number of neurons in the hidden layer.\n",
        "    - epochs: Number of training epochs.\n",
        "    - batch_sizes: List of mini-batch sizes to test.\n",
        "    \"\"\"\n",
        "    results = {}\n",
        "\n",
        "    for batch_size in batch_sizes:\n",
        "        print(f\"\\nTraining with mini-batch size: {batch_size}\")\n",
        "\n",
        "        loss_history, accuracy_history = train_model_with_mini_batches(\n",
        "            X_train, y_train, hidden_size, epochs=epochs, learning_rate=0.01, batch_size=batch_size\n",
        "        )\n",
        "\n",
        "        for epoch in range(epochs):\n",
        "            print(f\"Epoch {epoch}, Loss: {loss_history[epoch]:.4f}, Accuracy: {accuracy_history[epoch]:.4f}\")\n",
        "\n",
        "        results[batch_size] = {\n",
        "            \"loss_history\": loss_history,\n",
        "            \"accuracy_history\": accuracy_history\n",
        "        }\n",
        "\n",
        "        final_loss = loss_history[-1]\n",
        "        final_accuracy = accuracy_history[-1]\n",
        "        print(f\"Final Loss for batch size {batch_size}: {final_loss:.4f}\")\n",
        "        print(f\"Final Accuracy for batch size {batch_size}: {final_accuracy:.4f}\")\n",
        "\n",
        "compare_mini_batch_sizes(x_train, y_train, hidden_size=64, epochs=50, batch_sizes=[16, 32, 64])"
      ]
    },
    {
      "cell_type": "markdown",
      "metadata": {
        "id": "wb3WXFgMlXP7"
      },
      "source": [
        "### Mini-Batch vs. Full-Batch Gradient Descent\n"
      ]
    },
    {
      "cell_type": "markdown",
      "metadata": {
        "id": "vVvy9f6PlPCS"
      },
      "source": [
        "TODO: Compare the efficiency and performance of mini-batch gradient descent against full-batch gradient descent.\n",
        "\n",
        "1. Implement Full-Batch Gradient Descent: Ensure you have a full-batch gradient descent implementation.\n",
        "\n",
        "2. Modify the Training Loop: Allow the training loop to handle both mini-batch and full-batch scenarios.\n",
        "\n",
        "3. Train the Model: Run the training process using both methods and track their performance.\n",
        "\n",
        "4. Print Results: Display the final loss and accuracy for both methods along with training times."
      ]
    },
    {
      "cell_type": "code",
      "execution_count": null,
      "metadata": {
        "id": "tlTYBB2tlgBG"
      },
      "outputs": [],
      "source": [
        "def train_model_full_batch(X_train, y_train, hidden_size, epochs=50, learning_rate=0.01):\n",
        "    \"\"\"\n",
        "    Train the neural network model using full-batch gradient descent.\n",
        "\n",
        "    Parameters:\n",
        "    - X_train: Training data.\n",
        "    - y_train: One-hot encoded labels.\n",
        "    - hidden_size: Number of neurons in the hidden layer.\n",
        "    - epochs: Number of training epochs.\n",
        "    - learning_rate: Learning rate for optimization.\n",
        "\n",
        "    Returns:\n",
        "    - loss_history: List of loss values over epochs.\n",
        "    - accuracy_history: List of accuracy values over epochs.\n",
        "    \"\"\"\n",
        "    input_size = X_train.shape[1]\n",
        "    output_size = y_train.shape[1]\n",
        "\n",
        "    parameters = initialize_parameters(input_size, hidden_size, output_size)\n",
        "\n",
        "    loss_history = []\n",
        "    accuracy_history = []\n",
        "\n",
        "    for epoch in range(epochs):\n",
        "\n",
        "        A2, cache = forward_propagation(X_train, parameters)\n",
        "\n",
        "        loss = compute_loss(y_train, A2)\n",
        "\n",
        "        accuracy = compute_accuracy(y_train, A2)\n",
        "\n",
        "        loss_history.append(loss)\n",
        "        accuracy_history.append(accuracy)\n",
        "\n",
        "        gradients = backward_propagation(X_train, y_train, parameters, cache)\n",
        "\n",
        "        parameters = update_parameters_with_sgd(parameters, gradients, learning_rate)\n",
        "\n",
        "        if (epoch + 1) % 10 == 0:\n",
        "            print(f\"Epoch {epoch + 1}/{epochs}, Loss: {loss:.4f}, Accuracy: {accuracy:.4f}\")\n",
        "\n",
        "    return loss_history, accuracy_history\n",
        "\n",
        "def compute_accuracy(y_true, y_pred):\n",
        "    predicted_classes = np.argmax(y_pred, axis=1)\n",
        "    true_classes = np.argmax(y_true, axis=1)\n",
        "    accuracy = np.mean(predicted_classes == true_classes)\n",
        "    return accuracy\n"
      ]
    },
    {
      "cell_type": "code",
      "execution_count": null,
      "metadata": {
        "id": "YIb4-9eGllGi",
        "colab": {
          "base_uri": "https://localhost:8080/"
        },
        "outputId": "b46c8d52-b5c2-464c-cbad-08d1dfda0a44"
      },
      "outputs": [
        {
          "output_type": "stream",
          "name": "stdout",
          "text": [
            "Training with Mini-Batch Gradient Descent...\n",
            "Epoch 1/50, Loss: 0.8535, Accuracy: 0.7066\n",
            "Epoch 10/50, Loss: 0.4173, Accuracy: 0.8621\n",
            "Epoch 20/50, Loss: 0.3609, Accuracy: 0.8807\n",
            "Epoch 30/50, Loss: 0.3294, Accuracy: 0.8898\n",
            "Epoch 40/50, Loss: 0.3077, Accuracy: 0.8973\n",
            "Epoch 50/50, Loss: 0.2911, Accuracy: 0.9024\n",
            "Mini-Batch Final Loss: 0.2911, Final Accuracy: 0.9024, Time: 97.10 seconds\n",
            "Training with Full-Batch Gradient Descent...\n",
            "Epoch 10/50, Loss: 1.6151, Accuracy: 0.1836\n",
            "Epoch 20/50, Loss: 1.9456, Accuracy: 0.2370\n",
            "Epoch 30/50, Loss: 1.9867, Accuracy: 0.2801\n",
            "Epoch 40/50, Loss: 1.9445, Accuracy: 0.3301\n",
            "Epoch 50/50, Loss: 1.8817, Accuracy: 0.3734\n",
            "Full-Batch Final Loss: 1.8817, Final Accuracy: 0.3734, Time: 39.31 seconds\n"
          ]
        }
      ],
      "source": [
        "import time\n",
        "\n",
        "def compare_mini_batch_and_full_batch(X_train, y_train, hidden_size, epochs=50, batch_size=32):\n",
        "    \"\"\"\n",
        "    Compare the performance of mini-batch gradient descent against full-batch gradient descent.\n",
        "\n",
        "    Parameters:\n",
        "    - X_train: Training data.\n",
        "    - y_train: One-hot encoded labels.\n",
        "    - hidden_size: Number of neurons in the hidden layer.\n",
        "    - epochs: Number of training epochs.\n",
        "    - batch_size: Size of mini-batches for mini-batch gradient descent.\n",
        "    \"\"\"\n",
        "\n",
        "    print(\"Training with Mini-Batch Gradient Descent...\")\n",
        "    start_time = time.time()\n",
        "    loss_history_mini_batch, accuracy_history_mini_batch = train_model_with_mini_batches(\n",
        "        X_train, y_train, hidden_size, epochs, batch_size=batch_size)\n",
        "    mini_batch_time = time.time() - start_time\n",
        "    final_loss_mini_batch = loss_history_mini_batch[-1]\n",
        "    final_accuracy_mini_batch = accuracy_history_mini_batch[-1]\n",
        "\n",
        "    print(f\"Mini-Batch Final Loss: {final_loss_mini_batch:.4f}, \"\n",
        "          f\"Final Accuracy: {final_accuracy_mini_batch:.4f}, \"\n",
        "          f\"Time: {mini_batch_time:.2f} seconds\")\n",
        "\n",
        "    print(\"Training with Full-Batch Gradient Descent...\")\n",
        "    start_time = time.time()\n",
        "    loss_history_full_batch, accuracy_history_full_batch = train_model_full_batch(\n",
        "        X_train, y_train, hidden_size, epochs)\n",
        "    full_batch_time = time.time() - start_time\n",
        "    final_loss_full_batch = loss_history_full_batch[-1]\n",
        "    final_accuracy_full_batch = accuracy_history_full_batch[-1]\n",
        "\n",
        "    print(f\"Full-Batch Final Loss: {final_loss_full_batch:.4f}, \"\n",
        "          f\"Final Accuracy: {final_accuracy_full_batch:.4f}, \"\n",
        "          f\"Time: {full_batch_time:.2f} seconds\")\n",
        "\n",
        "\n",
        "compare_mini_batch_and_full_batch(x_train, y_train, hidden_size=64, epochs=50, batch_size=32)\n"
      ]
    }
  ],
  "metadata": {
    "colab": {
      "provenance": []
    },
    "kernelspec": {
      "display_name": "Python 3",
      "name": "python3"
    },
    "language_info": {
      "codemirror_mode": {
        "name": "ipython",
        "version": 3
      },
      "file_extension": ".py",
      "mimetype": "text/x-python",
      "name": "python",
      "nbconvert_exporter": "python",
      "pygments_lexer": "ipython3",
      "version": "3.10.5"
    }
  },
  "nbformat": 4,
  "nbformat_minor": 0
}